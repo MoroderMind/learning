{
 "cells": [
  {
   "cell_type": "code",
   "execution_count": 18,
   "id": "ca7581ff",
   "metadata": {},
   "outputs": [],
   "source": [
    "import numpy as np\n",
    "import pandas as pd\n",
    "import math\n",
    "import matplotlib.pyplot as plt\n",
    "%matplotlib inline\n",
    "import seaborn as sns"
   ]
  },
  {
   "cell_type": "markdown",
   "id": "6ec13770",
   "metadata": {},
   "source": [
    "## Contains Dublicate! \n",
    "\n",
    "### Solution using the fact that set removes duplicates"
   ]
  },
  {
   "cell_type": "code",
   "execution_count": 13,
   "id": "784e0040",
   "metadata": {},
   "outputs": [],
   "source": [
    "def containsDub1(nums):\n",
    "    return len(nums) > len(set(nums))"
   ]
  },
  {
   "cell_type": "code",
   "execution_count": 14,
   "id": "713b305b",
   "metadata": {},
   "outputs": [
    {
     "data": {
      "text/plain": [
       "(True, False)"
      ]
     },
     "execution_count": 14,
     "metadata": {},
     "output_type": "execute_result"
    }
   ],
   "source": [
    "containsDub1([1,2,2,3]), containsDub1([1,2,3])"
   ]
  },
  {
   "cell_type": "code",
   "execution_count": 15,
   "id": "0e7d6bff",
   "metadata": {},
   "outputs": [],
   "source": [
    "def containsDub2(nums):\n",
    "    hashSet = set()\n",
    "    for num in nums:\n",
    "        if num in hashSet:\n",
    "            return True\n",
    "        hashSet.add(num)\n",
    "    return False"
   ]
  },
  {
   "cell_type": "code",
   "execution_count": 16,
   "id": "6f8db85d",
   "metadata": {},
   "outputs": [
    {
     "data": {
      "text/plain": [
       "(True, False)"
      ]
     },
     "execution_count": 16,
     "metadata": {},
     "output_type": "execute_result"
    }
   ],
   "source": [
    "containsDub2([1,2,2,3]), containsDub2([1,2,3])"
   ]
  },
  {
   "cell_type": "markdown",
   "id": "da0f395c",
   "metadata": {},
   "source": [
    "## Two Sum\n",
    "Input: nums = [2,7,11,15], target = 9\n",
    "\n",
    "Output: [0,1]\n",
    "\n",
    "Explanation: Because nums[0] + nums[1] == 9, we return [0, 1].\n",
    "\n",
    "### 1 using double nested loop\n",
    "\n",
    "### 2 using hashmaps\n"
   ]
  },
  {
   "cell_type": "code",
   "execution_count": 20,
   "id": "4e5bbf91",
   "metadata": {},
   "outputs": [],
   "source": [
    "def twoSum1(nums, target):\n",
    "    i, j = 0, 0\n",
    "    for i in range(len(nums)):\n",
    "        res = 0\n",
    "        res += nums[i]\n",
    "        for j in range(i + 1, len(nums)):\n",
    "            if (res + nums[j] == target):\n",
    "                return [i,j]\n",
    "    "
   ]
  },
  {
   "cell_type": "code",
   "execution_count": 23,
   "id": "b608e8b9",
   "metadata": {},
   "outputs": [
    {
     "data": {
      "text/plain": [
       "([0, 1], [0, 2])"
      ]
     },
     "execution_count": 23,
     "metadata": {},
     "output_type": "execute_result"
    }
   ],
   "source": [
    "twoSum1([2,7,11,15], 9), twoSum1([2,6,8], 10)"
   ]
  },
  {
   "cell_type": "code",
   "execution_count": 24,
   "id": "9af6e552",
   "metadata": {},
   "outputs": [],
   "source": [
    "def twoSum2(nums, target):\n",
    "    seen = {}\n",
    "    for i in range(len(nums)):\n",
    "        diffrence = target - nums[i]\n",
    "        if diffrence in seen:\n",
    "            return [seen[diffrence], i]\n",
    "        else:\n",
    "            seen[nums[i]] = i"
   ]
  },
  {
   "cell_type": "code",
   "execution_count": 25,
   "id": "0bb8b00b",
   "metadata": {},
   "outputs": [
    {
     "data": {
      "text/plain": [
       "([0, 1], [0, 2])"
      ]
     },
     "execution_count": 25,
     "metadata": {},
     "output_type": "execute_result"
    }
   ],
   "source": [
    "twoSum2([2,7,11,15], 9), twoSum2([2,6,8], 10)"
   ]
  },
  {
   "cell_type": "markdown",
   "id": "f6bd5bc2",
   "metadata": {},
   "source": [
    "# Valid Anagram\n",
    "\n",
    "##### Given two strings s and t, return true if t is an anagram of s, and false otherwise."
   ]
  },
  {
   "cell_type": "code",
   "execution_count": 26,
   "id": "f41c8d82",
   "metadata": {},
   "outputs": [],
   "source": [
    "def isAna1(s,t):\n",
    "    return (sorted(s) == sorted(t))"
   ]
  },
  {
   "cell_type": "code",
   "execution_count": 28,
   "id": "ce292f91",
   "metadata": {},
   "outputs": [],
   "source": [
    "s1, t1, s2, t2 = \"anagram\", \"nagaram\", \"rat\", \"car\""
   ]
  },
  {
   "cell_type": "code",
   "execution_count": 29,
   "id": "c5620436",
   "metadata": {},
   "outputs": [
    {
     "data": {
      "text/plain": [
       "(True, False)"
      ]
     },
     "execution_count": 29,
     "metadata": {},
     "output_type": "execute_result"
    }
   ],
   "source": [
    "isAna1(s1,t1), isAna1(s2,t2)"
   ]
  },
  {
   "cell_type": "code",
   "execution_count": 34,
   "id": "f4498795",
   "metadata": {},
   "outputs": [],
   "source": [
    "# Counter makes a dict that counts the number of charecters present in string\n",
    "from collections import Counter\n",
    "def isAna2(s,t):\n",
    "    return Counter(s) == Counter(t)"
   ]
  },
  {
   "cell_type": "code",
   "execution_count": 35,
   "id": "eb0c0749",
   "metadata": {},
   "outputs": [
    {
     "data": {
      "text/plain": [
       "(True, False)"
      ]
     },
     "execution_count": 35,
     "metadata": {},
     "output_type": "execute_result"
    }
   ],
   "source": [
    "isAna2(s1,t1), isAna2(s2,t2)"
   ]
  },
  {
   "cell_type": "code",
   "execution_count": 42,
   "id": "aca133fc",
   "metadata": {},
   "outputs": [],
   "source": [
    "# Counting manually\n",
    "def isAna3(s,t):\n",
    "    if len(s) != len(t):\n",
    "        return False\n",
    "    countS, countT = {}, {}\n",
    "    for i in range(len(s)):\n",
    "        countS[s[i]] = 1 + countS.get(s[i], 0)\n",
    "        countT[t[i]] = 1 + countT.get(t[i], 0)\n",
    "    for c in countS:\n",
    "         if countS[c] != countT.get(c, 0):\n",
    "            return False\n",
    "    return True"
   ]
  },
  {
   "cell_type": "code",
   "execution_count": 41,
   "id": "3bd83fdd",
   "metadata": {},
   "outputs": [
    {
     "data": {
      "text/plain": [
       "(True, False)"
      ]
     },
     "execution_count": 41,
     "metadata": {},
     "output_type": "execute_result"
    }
   ],
   "source": [
    "isAna3(s1,t1), isAna3(s2,t2)"
   ]
  },
  {
   "cell_type": "markdown",
   "id": "40464e3f",
   "metadata": {},
   "source": [
    "# Palindrome number"
   ]
  },
  {
   "cell_type": "code",
   "execution_count": 50,
   "id": "08355f96",
   "metadata": {},
   "outputs": [],
   "source": [
    "def isPalindrome(x: int):\n",
    "    s = str(x)\n",
    "    print(s)\n",
    "    print(s[::1])\n",
    "    return s == s[::-1]"
   ]
  },
  {
   "cell_type": "code",
   "execution_count": 47,
   "id": "03bbfaa3",
   "metadata": {},
   "outputs": [],
   "source": [
    "x1 = 121\n",
    "x2 = 10"
   ]
  },
  {
   "cell_type": "code",
   "execution_count": 51,
   "id": "072e175c",
   "metadata": {},
   "outputs": [
    {
     "name": "stdout",
     "output_type": "stream",
     "text": [
      "121\n",
      "121\n",
      "10\n",
      "10\n"
     ]
    },
    {
     "data": {
      "text/plain": [
       "(True, False)"
      ]
     },
     "execution_count": 51,
     "metadata": {},
     "output_type": "execute_result"
    }
   ],
   "source": [
    "isPalindrome(x1), isPalindrome(x2)"
   ]
  }
 ],
 "metadata": {
  "kernelspec": {
   "display_name": "Python 3 (ipykernel)",
   "language": "python",
   "name": "python3"
  },
  "language_info": {
   "codemirror_mode": {
    "name": "ipython",
    "version": 3
   },
   "file_extension": ".py",
   "mimetype": "text/x-python",
   "name": "python",
   "nbconvert_exporter": "python",
   "pygments_lexer": "ipython3",
   "version": "3.11.0"
  }
 },
 "nbformat": 4,
 "nbformat_minor": 5
}
