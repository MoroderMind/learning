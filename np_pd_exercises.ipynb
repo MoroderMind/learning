{
 "cells": [
  {
   "cell_type": "code",
   "execution_count": 1,
   "id": "e73b7adb",
   "metadata": {},
   "outputs": [],
   "source": [
    "import pandas as pd\n",
    "import numpy as np"
   ]
  },
  {
   "cell_type": "code",
   "execution_count": 11,
   "id": "535c684f",
   "metadata": {},
   "outputs": [
    {
     "name": "stdout",
     "output_type": "stream",
     "text": [
      "shape: (4, 2)\n",
      "size: 8\n",
      "ndim: 2\n"
     ]
    }
   ],
   "source": [
    "arr = np.array([\n",
    "    [500, 200],\n",
    "    [200, 300],\n",
    "    [50251, 52315],\n",
    "    [273, 37517]\n",
    "], dtype = np.uint16)\n",
    "\n",
    "print(f\"shape: {arr.shape}\\nsize: {arr.size}\\nndim: {arr.ndim}\")"
   ]
  },
  {
   "cell_type": "code",
   "execution_count": 19,
   "id": "85dcfb30",
   "metadata": {},
   "outputs": [
    {
     "name": "stdout",
     "output_type": "stream",
     "text": [
      "[[100 110]\n",
      " [120 130]\n",
      " [140 150]\n",
      " [160 170]\n",
      " [180 190]]\n"
     ]
    }
   ],
   "source": [
    "arr = np.arange(100, 200, 10, dtype=np.int64).reshape(5,2)\n",
    "print(arr)"
   ]
  },
  {
   "cell_type": "code",
   "execution_count": 25,
   "id": "8fe2a692",
   "metadata": {},
   "outputs": [
    {
     "name": "stdout",
     "output_type": "stream",
     "text": [
      "[33 66 99]\n"
     ]
    }
   ],
   "source": [
    "#prnt only third row\n",
    "sampleArray = np.array([[11 ,22, 33], [44, 55, 66], [77, 88, 99]])\n",
    "print(sampleArray[:, 2])"
   ]
  },
  {
   "cell_type": "code",
   "execution_count": 31,
   "id": "6d294364",
   "metadata": {},
   "outputs": [
    {
     "name": "stdout",
     "output_type": "stream",
     "text": [
      "(5, 4)\n",
      "[[ 6 12]\n",
      " [30 36]\n",
      " [54 60]]\n"
     ]
    }
   ],
   "source": [
    "# Return array of odd rows and even columns from below numpy array\n",
    "sampleArray = np.array([[3 ,6, 9, 12], [15 ,18, 21, 24], \n",
    "[27 ,30, 33, 36], [39 ,42, 45, 48], [51 ,54, 57, 60]])\n",
    "print(sampleArray.shape)\n",
    "\n",
    "wtf = sampleArray[::2, 1::2]\n",
    "print(wtf)"
   ]
  },
  {
   "cell_type": "code",
   "execution_count": 36,
   "id": "f2f54d56",
   "metadata": {},
   "outputs": [
    {
     "name": "stdout",
     "output_type": "stream",
     "text": [
      "[[ 400 1521 1089]\n",
      " [ 625  625  784]]\n"
     ]
    }
   ],
   "source": [
    "# Create a result array by adding the following two NumPy arrays. \n",
    "# Next, modify the result array by calculating the square of each element\n",
    "arrayOne = np.array([[5, 6, 9], [21 ,18, 27]])\n",
    "arrayTwo = np.array([[15 ,33, 24], [4 ,7, 1]])\n",
    "\n",
    "new_arr = (arrayOne + arrayTwo) **2\n",
    "print(new_arr)\n"
   ]
  },
  {
   "cell_type": "code",
   "execution_count": 55,
   "id": "64076dfb",
   "metadata": {},
   "outputs": [
    {
     "name": "stdout",
     "output_type": "stream",
     "text": [
      "[[10 11 12]\n",
      " [13 14 15]\n",
      " [16 17 18]\n",
      " [19 20 21]\n",
      " [22 23 24]\n",
      " [25 26 27]\n",
      " [28 29 30]\n",
      " [31 32 33]]\n",
      "[[[10 11 12]\n",
      "  [13 14 15]]\n",
      "\n",
      " [[16 17 18]\n",
      "  [19 20 21]]\n",
      "\n",
      " [[22 23 24]\n",
      "  [25 26 27]]\n",
      "\n",
      " [[28 29 30]\n",
      "  [31 32 33]]]\n"
     ]
    }
   ],
   "source": [
    "# (8,3) np arr to 4 sub np arr\n",
    "sample_arr = np.arange(10, 34).reshape(8, 3)\n",
    "sub_arr = np.array(np.split(sample_arr, 4))\n",
    "print(sample_arr)\n",
    "print(sub_arr)"
   ]
  },
  {
   "cell_type": "code",
   "execution_count": 57,
   "id": "f4315170",
   "metadata": {},
   "outputs": [
    {
     "name": "stdout",
     "output_type": "stream",
     "text": [
      "Sorting Original array by secoond row\n",
      "[[73 43 34]\n",
      " [12 22 82]\n",
      " [66 94 53]]\n",
      "Sorting Original array by secoond column\n",
      "[[82 22 12]\n",
      " [34 43 73]\n",
      " [53 94 66]]\n"
     ]
    }
   ],
   "source": [
    "# sorting\n",
    "sampleArray = np.array([[34,43,73],[82,22,12],[53,94,66]])\n",
    "\n",
    "sortArrayByRow = sampleArray[:,sampleArray[1,:].argsort()]\n",
    "print(\"Sorting Original array by secoond row\")\n",
    "print(sortArrayByRow)\n",
    "\n",
    "print(\"Sorting Original array by secoond column\")\n",
    "sortArrayByColumn = sampleArray[sampleArray[:,1].argsort()]\n",
    "print(sortArrayByColumn)"
   ]
  },
  {
   "cell_type": "code",
   "execution_count": null,
   "id": "735d700c",
   "metadata": {},
   "outputs": [],
   "source": [
    "### print(\"Printing Original array\")\n",
    "sampleArray = np.array([[34,43,73],[82,22,12],[53,94,66]]) \n",
    "print (sampleArray)\n",
    "\n",
    "minOfAxisOne = np.amin(sampleArray, axis=1) \n",
    "print(\"Printing amin Of Axis 1\")\n",
    "print(minOfAxisOne)\n",
    "\n",
    "maxOfAxisOne = np.amax(sampleArray, 0) \n",
    "print(\"Printing amax Of Axis 0\")\n",
    "print(maxOfAxisOne)"
   ]
  },
  {
   "cell_type": "code",
   "execution_count": 68,
   "id": "a8615138",
   "metadata": {},
   "outputs": [
    {
     "name": "stdout",
     "output_type": "stream",
     "text": [
      "[ 3  6  9 12]\n"
     ]
    }
   ],
   "source": [
    "data = np.array([[1, 2, 3],\n",
    "                 [4, 5, 6],\n",
    "                 [7, 8, 9],\n",
    "                 [10, 11, 12]])\n",
    "# axis 0 is looking down / vertical\n",
    "# axis 1 is looking horizontal / left-right\n",
    "print(np.max(data, axis=1))"
   ]
  },
  {
   "cell_type": "code",
   "execution_count": 87,
   "id": "3eea7bdf",
   "metadata": {},
   "outputs": [
    {
     "name": "stdout",
     "output_type": "stream",
     "text": [
      "[ 9 10 22]\n",
      "[ 4.33333333 10.33333333  9.66666667  6.66666667]\n"
     ]
    }
   ],
   "source": [
    "arr = np.arange(10, 22, 1).reshape(4,3)\n",
    "arr2 = np.array([[1,5,7],\n",
    "                [9,10,12],\n",
    "                [3,4,22],\n",
    "                [7,9,4]])\n",
    "print(np.amax(arr2, axis=0))\n",
    "\n",
    "print(np.mean(arr2, axis=1))"
   ]
  },
  {
   "cell_type": "code",
   "execution_count": null,
   "id": "d13c6902",
   "metadata": {},
   "outputs": [],
   "source": []
  }
 ],
 "metadata": {
  "kernelspec": {
   "display_name": "Python 3 (ipykernel)",
   "language": "python",
   "name": "python3"
  },
  "language_info": {
   "codemirror_mode": {
    "name": "ipython",
    "version": 3
   },
   "file_extension": ".py",
   "mimetype": "text/x-python",
   "name": "python",
   "nbconvert_exporter": "python",
   "pygments_lexer": "ipython3",
   "version": "3.11.0"
  }
 },
 "nbformat": 4,
 "nbformat_minor": 5
}
