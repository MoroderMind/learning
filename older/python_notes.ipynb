{
 "cells": [
  {
   "cell_type": "markdown",
   "id": "f0dc0058",
   "metadata": {},
   "source": [
    "# Dictonaries"
   ]
  },
  {
   "cell_type": "code",
   "execution_count": 57,
   "id": "b80cc4e8",
   "metadata": {},
   "outputs": [
    {
     "name": "stdout",
     "output_type": "stream",
     "text": [
      "dict_items([('two', 2), ('three', 3), ('four', 4)])\n"
     ]
    }
   ],
   "source": [
    "dict_of_numbers = {\n",
    "    'one': 1,\n",
    "    'two': 2,\n",
    "    'three':3\n",
    "}\n",
    "# Adding additional key, value pairs\n",
    "dict_of_numbers['fourRR'] = 4\n",
    "# Updating key, value\n",
    "dict_of_numbers['one'] = 25 # This is obviously wrong, however, it is possible\n",
    "\n",
    "#Removing the wrong key value pair\n",
    "del dict_of_numbers['one']\n",
    "\n",
    "#modify, by firstly setting the correct key, and afterwards deleting it\n",
    "dict_of_numbers['four'] = dict_of_numbers['fourRR']\n",
    "del dict_of_numbers['fourRR']\n",
    "\n",
    "# .items(), creates a class claled dict_items, which is a tuple, and therefore the for loop works\n",
    "print(dict_of_numbers.items())"
   ]
  },
  {
   "cell_type": "code",
   "execution_count": 56,
   "id": "56a30016",
   "metadata": {},
   "outputs": [
    {
     "name": "stdout",
     "output_type": "stream",
     "text": [
      "The key is two\n",
      "The value is 2\n",
      "\n",
      "The key is three\n",
      "The value is 3\n",
      "\n",
      "The key is four\n",
      "The value is 4\n",
      "\n"
     ]
    }
   ],
   "source": [
    "# Looping through both\n",
    "for key, value in dict_of_numbers.items():\n",
    "    print(f\"The key is {key}\\nThe value is {value}\\n\")"
   ]
  },
  {
   "cell_type": "code",
   "execution_count": 41,
   "id": "f42125cf",
   "metadata": {},
   "outputs": [
    {
     "name": "stdout",
     "output_type": "stream",
     "text": [
      "2 is the value from this key two\n",
      "3 is the value from this key three\n",
      "This is the secret number!!!!!\n",
      "4 is the value from this key four\n"
     ]
    }
   ],
   "source": [
    "# Looping only through key\n",
    "for key in dict_of_numbers:\n",
    "    print(f'{dict_of_numbers[key]} is the value from this key {key}')\n",
    "    if dict_of_numbers[key] == 3:\n",
    "        print(\"This is the secret number!!!!!\")"
   ]
  },
  {
   "cell_type": "code",
   "execution_count": 43,
   "id": "468755bf",
   "metadata": {},
   "outputs": [
    {
     "name": "stdout",
     "output_type": "stream",
     "text": [
      "2\n",
      "3\n",
      "4\n"
     ]
    }
   ],
   "source": [
    "# Looping trough value\n",
    "for value in dict_of_numbers.values():\n",
    "    print(value)"
   ]
  },
  {
   "cell_type": "code",
   "execution_count": 55,
   "id": "e0eb84d6",
   "metadata": {},
   "outputs": [
    {
     "name": "stdout",
     "output_type": "stream",
     "text": [
      "[3, 1, 4]\n",
      "Emil\n",
      "3\n",
      "1\n",
      "4\n",
      "Sofus\n",
      "900\n",
      "500\n",
      "Sune\n",
      "420\n",
      "420\n",
      "420\n",
      "Nicholas\n",
      "8\n",
      "12\n"
     ]
    }
   ],
   "source": [
    "# List in dicts\n",
    "favorite_numbers = {\n",
    "    'Emil' : [3, 1, 4],\n",
    "    'Sofus': [900, 500],\n",
    "    'Sune' : [420,420,420]\n",
    "}\n",
    "favorite_numbers['Nicholas'] = [8, 12]\n",
    "print(favorite_numbers['Emil'])\n",
    "for name in favorite_numbers:\n",
    "    print(name)\n",
    "    for number in favorite_numbers[name]:\n",
    "        print(number)"
   ]
  },
  {
   "cell_type": "code",
   "execution_count": 53,
   "id": "5573cdda",
   "metadata": {},
   "outputs": [
    {
     "name": "stdout",
     "output_type": "stream",
     "text": [
      "name of pet willie\n",
      "name of pet walter\n",
      "name of pet peso\n"
     ]
    }
   ],
   "source": [
    "# Dictonaries in dictonaries:\n",
    "pets = {'willie': {'kind': 'dog', 'owner': 'eric', 'vaccinated': True},\n",
    "        'walter': {'kind': 'cockroach', 'owner': 'eric', 'vaccinated': False},\n",
    "        'peso': {'kind': 'dog', 'owner': 'chloe', 'vaccinated': True},\n",
    "        }\n",
    "for pet, information in pets.items():\n",
    "    print(f'name of pet {pet}')\n",
    "        #for info in information.items():\n",
    "         #   print(info)"
   ]
  },
  {
   "cell_type": "code",
   "execution_count": 8,
   "id": "1d4c2e51",
   "metadata": {},
   "outputs": [
    {
     "name": "stdout",
     "output_type": "stream",
     "text": [
      "pet name: Chanel which has race Chihuahua\n",
      "pet name: Maleni which has race Gravhund\n",
      "pet name: Mismis which has race Kat\n"
     ]
    }
   ],
   "source": [
    "pets = {\n",
    "    'Chanel': \"Chihuahua\",\n",
    "    'Maleni': 'Gravhund',\n",
    "    'Mismis': 'Kat'\n",
    "}\n",
    "for name, race in pets.items():\n",
    "    print(f'pet name: {name} which has race {race}')"
   ]
  },
  {
   "cell_type": "code",
   "execution_count": 60,
   "id": "b0fd111b",
   "metadata": {},
   "outputs": [
    {
     "name": "stdout",
     "output_type": "stream",
     "text": [
      "{'aDIN MOR': 2, 'bDIN MOR': 4, 'cDIN MOR': 6, 'dDIN MOR': 8, 'eDIN MOR': 10}\n"
     ]
    }
   ],
   "source": [
    "#dictonary comprehensions\n",
    "dict1 = {'a': 1, 'b': 2, 'c': 3, 'd': 4, 'e': 5}\n",
    "# Double each value in the dictionary\n",
    "double_dict1 = {key + \"DIN MOR\":value*2 for key, value in dict1.items()}\n",
    "print(double_dict1)"
   ]
  },
  {
   "cell_type": "markdown",
   "id": "39a64edc",
   "metadata": {},
   "source": [
    "# Classes"
   ]
  },
  {
   "cell_type": "code",
   "execution_count": 46,
   "id": "c2f2074e",
   "metadata": {},
   "outputs": [],
   "source": [
    "import random\n",
    "from math import sqrt"
   ]
  },
  {
   "cell_type": "code",
   "execution_count": 47,
   "id": "1bb54a3c",
   "metadata": {},
   "outputs": [],
   "source": [
    "class Rocket():\n",
    "    def __init__(self, x=0, y=0):\n",
    "        self.x = x\n",
    "        self.y = y\n",
    "    def moverocket(self, x_inc=1, y_inc=1):\n",
    "        self.x = self.x + x_inc\n",
    "        self.y = self.y + y_inc\n",
    "    def get_distance(self, other_rocket):\n",
    "        return sqrt((self.x-other_rocket.x)**2 + (self.y-other_rocket.y)**2)"
   ]
  },
  {
   "cell_type": "code",
   "execution_count": 43,
   "id": "95b1f1dd",
   "metadata": {},
   "outputs": [],
   "source": [
    "my_rocket = Rocket()"
   ]
  },
  {
   "cell_type": "code",
   "execution_count": 64,
   "id": "fa0c2e21",
   "metadata": {},
   "outputs": [
    {
     "name": "stdout",
     "output_type": "stream",
     "text": [
      "Rocket no: 0 with values ((24, -19))\n",
      "MOVING\n",
      "Rocket no: 0 with values ((28, -15))\n",
      "\n",
      "\n",
      "Rocket no: 1 with values ((7, -1))\n",
      "MOVING\n",
      "Rocket no: 1 with values ((12, 3))\n",
      "\n",
      "\n",
      "Rocket no: 2 with values ((12, -23))\n",
      "MOVING\n",
      "Rocket no: 2 with values ((14, -17))\n",
      "\n",
      "\n",
      "Rocket no: 3 with values ((19, -7))\n",
      "MOVING\n",
      "Rocket no: 3 with values ((25, -3))\n",
      "\n",
      "\n",
      "Rocket no: 4 with values ((19, -9))\n",
      "MOVING\n",
      "Rocket no: 4 with values ((29, -2))\n",
      "\n",
      "\n",
      " 24.08318915758459 is the distance between 0 and 1 rocekt\n"
     ]
    }
   ],
   "source": [
    "my_rockets = [Rocket(random.randint(0, 25), random.randint(-25, 0)) for x in range(5)]\n",
    "\n",
    "for index, rocket in enumerate(my_rockets):\n",
    "    print(f\"Rocket no: {index} with values ({rocket.x, rocket.y})\")\n",
    "    print(\"MOVING\")\n",
    "    rocket.moverocket(random.randint(0,10), random.randint(0,10))\n",
    "    print(f\"Rocket no: {index} with values ({rocket.x, rocket.y})\\n\\n\")\n",
    "\n",
    "distance_0_1 = my_rockets[0].get_distance(my_rockets[1]) \n",
    "print(f\" {distance_0_1} is the distance between 0 and 1 rocekt\")"
   ]
  },
  {
   "cell_type": "code",
   "execution_count": 87,
   "id": "dfe4d0aa",
   "metadata": {},
   "outputs": [
    {
     "name": "stdout",
     "output_type": "stream",
     "text": [
      "My name is Emil\n",
      "My age is 24\n",
      "My grade is sadly only A\n"
     ]
    }
   ],
   "source": [
    "class Person():\n",
    "    def __init__(self, name, age):\n",
    "        self.name = name\n",
    "        self.age  = age\n",
    "        \n",
    "    def greet(self):\n",
    "        print(f\"My name is {self.name}\\nMy age is {self.age}\")\n",
    "\n",
    "\n",
    "class Student(Person):\n",
    "    def __init__(self, name, age, grade):\n",
    "        super().__init__(name, age)\n",
    "        self.grade = grade\n",
    "    \n",
    "    def grades(self):\n",
    "        print(f\"My grade is sadly only {self.grade}\")\n",
    "    \n",
    "    \n",
    "\n",
    "emil = Person(name=\"Emil\", age=24)\n",
    "emil_student = Student(\"Emil\", 24, 'A')\n",
    "\n",
    "#print(emil_student.name)\n",
    "#emil.greet()\n",
    "emil_student.greet()\n",
    "emil_student.grades()"
   ]
  }
 ],
 "metadata": {
  "kernelspec": {
   "display_name": "Python 3 (ipykernel)",
   "language": "python",
   "name": "python3"
  },
  "language_info": {
   "codemirror_mode": {
    "name": "ipython",
    "version": 3
   },
   "file_extension": ".py",
   "mimetype": "text/x-python",
   "name": "python",
   "nbconvert_exporter": "python",
   "pygments_lexer": "ipython3",
   "version": "3.11.0"
  }
 },
 "nbformat": 4,
 "nbformat_minor": 5
}
