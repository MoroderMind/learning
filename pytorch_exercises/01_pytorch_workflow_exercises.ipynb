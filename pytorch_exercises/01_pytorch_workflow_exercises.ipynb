{
  "nbformat": 4,
  "nbformat_minor": 0,
  "metadata": {
    "colab": {
      "name": "01_pytorch_workflow_exercises.ipynb",
      "provenance": []
    },
    "kernelspec": {
      "name": "python3",
      "display_name": "Python 3"
    },
    "language_info": {
      "name": "python"
    },
    "accelerator": "GPU"
  },
  "cells": [
    {
      "cell_type": "markdown",
      "source": [
        "# 01. PyTorch Workflow Exercise Template\n",
        "\n",
        "The following is a template for the PyTorch workflow exercises.\n",
        "\n",
        "It's only starter code and it's your job to fill in the blanks.\n",
        "\n",
        "Because of the flexibility of PyTorch, there may be more than one way to answer the question.\n",
        "\n",
        "Don't worry about trying to be *right* just try writing code that suffices the question.\n",
        "\n",
        "You can see one form of [solutions on GitHub](https://github.com/mrdbourke/pytorch-deep-learning/tree/main/extras/solutions) (but try the exercises below yourself first!)."
      ],
      "metadata": {
        "id": "N8LsPXZti9Sw"
      }
    },
    {
      "cell_type": "code",
      "source": [
        "# Import necessary libraries\n",
        "import torch\n",
        "from torch import nn\n",
        "import pandas as pd\n",
        "import numpy as np\n",
        "from matplotlib import pyplot as plt"
      ],
      "metadata": {
        "id": "Glu2fM4dkNlx"
      },
      "execution_count": 2,
      "outputs": []
    },
    {
      "cell_type": "code",
      "source": [
        "# Setup device-agnostic code\n",
        "device = \"cuda\" if torch.cuda.is_available() else \"cpu\"\n",
        "device"
      ],
      "metadata": {
        "id": "LqKhXY26m31s",
        "outputId": "fb81e380-9b99-4114-80f6-f0a1fbdf72fb",
        "colab": {
          "base_uri": "https://localhost:8080/",
          "height": 36
        }
      },
      "execution_count": 4,
      "outputs": [
        {
          "output_type": "execute_result",
          "data": {
            "text/plain": [
              "'cuda'"
            ],
            "application/vnd.google.colaboratory.intrinsic+json": {
              "type": "string"
            }
          },
          "metadata": {},
          "execution_count": 4
        }
      ]
    },
    {
      "cell_type": "markdown",
      "source": [
        "## 1. Create a straight line dataset using the linear regression formula (`weight * X + bias`).\n",
        "  * Set `weight=0.3` and `bias=0.9` there should be at least 100 datapoints total.\n",
        "  * Split the data into 80% training, 20% testing.\n",
        "  * Plot the training and testing data so it becomes visual.\n",
        "\n",
        "Your output of the below cell should look something like:\n",
        "```\n",
        "Number of X samples: 100\n",
        "Number of y samples: 100\n",
        "First 10 X & y samples:\n",
        "X: tensor([0.0000, 0.0100, 0.0200, 0.0300, 0.0400, 0.0500, 0.0600, 0.0700, 0.0800,\n",
        "        0.0900])\n",
        "y: tensor([0.9000, 0.9030, 0.9060, 0.9090, 0.9120, 0.9150, 0.9180, 0.9210, 0.9240,\n",
        "        0.9270])\n",
        "```\n",
        "\n",
        "Of course the numbers in `X` and `y` may be different but ideally they're created using the linear regression formula."
      ],
      "metadata": {
        "id": "g7HUhxCxjeBx"
      }
    },
    {
      "cell_type": "code",
      "source": [
        "# Create the data parameters\n",
        "num_of_samples = 100\n",
        "weight, bias = 0.3, 0.9\n",
        "# Make X and y using linear regression feature\n",
        "# Adding some noise to make it a bit more interresting\n",
        "noise = torch.normal(0, 0.5, size=(num_of_samples,))\n",
        "X = torch.arange(0, 100, 1)\n",
        "y = X * weight + bias + noise\n",
        "\n",
        "print(f\"Number of X samples: {len(X)}\")\n",
        "print(f\"Number of y samples: {len(y)}\")\n",
        "print(f\"First 10 X & y samples:\\nX: {X[:10]}\\ny: {y[:10]}\")\n",
        "plt.plot(X, y)\n"
      ],
      "metadata": {
        "id": "KbDG5MV7jhvE",
        "outputId": "d0ce6fd1-9bcb-429f-8b31-30e29d0e6632",
        "colab": {
          "base_uri": "https://localhost:8080/",
          "height": 551
        }
      },
      "execution_count": 25,
      "outputs": [
        {
          "output_type": "stream",
          "name": "stdout",
          "text": [
            "Number of X samples: 100\n",
            "Number of y samples: 100\n",
            "First 10 X & y samples:\n",
            "X: tensor([0, 1, 2, 3, 4, 5, 6, 7, 8, 9])\n",
            "y: tensor([1.1510, 0.4485, 2.1852, 1.7647, 2.3985, 2.7700, 1.8427, 2.7145, 2.2591,\n",
            "        3.6556])\n"
          ]
        },
        {
          "output_type": "execute_result",
          "data": {
            "text/plain": [
              "[<matplotlib.lines.Line2D at 0x7a1f1f5d56f0>]"
            ]
          },
          "metadata": {},
          "execution_count": 25
        },
        {
          "output_type": "display_data",
          "data": {
            "text/plain": [
              "<Figure size 640x480 with 1 Axes>"
            ],
            "image/png": "[encoded data removed]"
          },
          "metadata": {}
        }
      ]
    },
    {
      "cell_type": "code",
      "source": [
        "# Split the data into training and testing\n",
        "X_train, y_train = X[:80], y[:80]\n",
        "X_test, y_test = X[80:], y[80:]\n"
      ],
      "metadata": {
        "id": "GlwtT1djkmLw"
      },
      "execution_count": 26,
      "outputs": []
    },
    {
      "cell_type": "code",
      "source": [
        "# Plot the training and testing data\n",
        "plt.plot(X_train, y_train)\n",
        "plt.plot(X_test, y_test)"
      ],
      "metadata": {
        "id": "29iQZFNhlYJ-",
        "outputId": "636d5395-c18f-4006-da8f-2705bb8f617a",
        "colab": {
          "base_uri": "https://localhost:8080/",
          "height": 447
        }
      },
      "execution_count": 27,
      "outputs": [
        {
          "output_type": "execute_result",
          "data": {
            "text/plain": [
              "[<matplotlib.lines.Line2D at 0x7a1f1f54b0a0>]"
            ]
          },
          "metadata": {},
          "execution_count": 27
        },
        {
          "output_type": "display_data",
          "data": {
            "text/plain": [
              "<Figure size 640x480 with 1 Axes>"
            ],
            "image/png": "[encoded data removed]"
          },
          "metadata": {}
        }
      ]
    },
    {
      "cell_type": "markdown",
      "source": [
        "## 2. Build a PyTorch model by subclassing `nn.Module`.\n",
        "  * Inside should be a randomly initialized `nn.Parameter()` with `requires_grad=True`, one for `weights` and one for `bias`.\n",
        "  * Implement the `forward()` method to compute the linear regression function you used to create the dataset in 1.\n",
        "  * Once you've constructed the model, make an instance of it and check its `state_dict()`.\n",
        "  * **Note:** If you'd like to use `nn.Linear()` instead of `nn.Parameter()` you can."
      ],
      "metadata": {
        "id": "ImZoe3v8jif8"
      }
    },
    {
      "cell_type": "code",
      "source": [
        "# Create PyTorch linear regression model by subclassing nn.Module\n",
        "\n",
        "class LinReg(nn.Module):\n",
        "  def __init__(self):\n",
        "    super().__init__()\n",
        "    self.w = nn.Parameter(data=torch.randn(1, requires_grad=True, dtype=torch.float))\n",
        "    self.b = nn.Parameter(data=torch.randn(1, requires_grad=True, dtype=torch.float))\n",
        "\n",
        "  def forward(self, x):\n",
        "    return x * self.w + self.b\n",
        "\n"
      ],
      "metadata": {
        "id": "qzd__Y5rjtB8"
      },
      "execution_count": 29,
      "outputs": []
    },
    {
      "cell_type": "code",
      "source": [
        "# Instantiate the model and put it to the target device\n",
        "torch.manual_seed(42)\n",
        "model1 = LinReg().to(device)\n",
        "model1.state_dict()\n"
      ],
      "metadata": {
        "id": "5LdcDnmOmyQ2",
        "outputId": "234d7406-8fed-4d2a-ae9e-b118223c5d74",
        "colab": {
          "base_uri": "https://localhost:8080/"
        }
      },
      "execution_count": 30,
      "outputs": [
        {
          "output_type": "execute_result",
          "data": {
            "text/plain": [
              "OrderedDict([('w', tensor([0.3367], device='cuda:0')),\n",
              "             ('b', tensor([0.1288], device='cuda:0'))])"
            ]
          },
          "metadata": {},
          "execution_count": 30
        }
      ]
    },
    {
      "cell_type": "markdown",
      "source": [
        "## 3. Create a loss function and optimizer using `nn.L1Loss()` and `torch.optim.SGD(params, lr)` respectively.\n",
        "  * Set the learning rate of the optimizer to be 0.01 and the parameters to optimize should be the model parameters from the model you created in 2.\n",
        "  * Write a training loop to perform the appropriate training steps for 300 epochs.\n",
        "  * The training loop should test the model on the test dataset every 20 epochs."
      ],
      "metadata": {
        "id": "G6nYOrJhjtfu"
      }
    },
    {
      "cell_type": "code",
      "source": [
        "# Create the loss function and optimizer\n",
        "loss_fn = nn.L1Loss()\n",
        "optimizer = torch.optim.SGD(params=model1.parameters(), lr=0.0005)"
      ],
      "metadata": {
        "id": "ltvoZ-FWjv1j"
      },
      "execution_count": 40,
      "outputs": []
    },
    {
      "cell_type": "code",
      "source": [
        "# Training loop\n",
        "epochs = 1000\n",
        "# Send data to target device\n",
        "X_train, y_train = X_train.to(device), y_train.to(device)\n",
        "X_test, y_test = X_test.to(device), y_test.to(device)\n",
        "\n",
        "\n",
        "for epoch in range(epochs):\n",
        "  ### Training\n",
        "  # Put model in train mode\n",
        "  model1.train()\n",
        "  # 1. Forward pass\n",
        "  y_preds = model1(X_train).squeeze()\n",
        "  # 2. Calculate loss\n",
        "  loss = loss_fn(y_preds, y_train)\n",
        "  # 3. Zero gradients\n",
        "  optimizer.zero_grad()\n",
        "  # 4. Backpropagation\n",
        "  loss.backward()\n",
        "  # 5. Step the optimizer\n",
        "  optimizer.step()\n",
        "\n",
        "  ### Perform testing every 20 epochs\n",
        "  if epoch % 20 == 0:\n",
        "    model1.eval()\n",
        "    with torch.inference_mode():\n",
        "      # 1. Forward pass\n",
        "      y_test_preds = model1(X_test).squeeze()\n",
        "\n",
        "      # 2. Calculate test loss\n",
        "      test_loss = loss_fn(y_test_preds, y_test)\n",
        "\n",
        "      # Print out what's happening\n",
        "      print(f\"Epoch: {epoch} | Train loss: {loss:.3f} | Test loss: {test_loss:.3f}\")"
      ],
      "metadata": {
        "id": "xpE83NvNnkdV",
        "outputId": "268fb4d4-7c5c-4daf-db42-c12963bdec1a",
        "colab": {
          "base_uri": "https://localhost:8080/"
        }
      },
      "execution_count": 41,
      "outputs": [
        {
          "output_type": "stream",
          "name": "stdout",
          "text": [
            "Epoch: 0 | Train loss: 4.598 | Test loss: 9.315\n",
            "Epoch: 20 | Train loss: 0.448 | Test loss: 0.341\n",
            "Epoch: 40 | Train loss: 0.446 | Test loss: 0.339\n",
            "Epoch: 60 | Train loss: 0.445 | Test loss: 0.337\n",
            "Epoch: 80 | Train loss: 0.444 | Test loss: 0.335\n",
            "Epoch: 100 | Train loss: 0.435 | Test loss: 0.338\n",
            "Epoch: 120 | Train loss: 0.431 | Test loss: 0.356\n",
            "Epoch: 140 | Train loss: 0.439 | Test loss: 0.348\n",
            "Epoch: 160 | Train loss: 0.439 | Test loss: 0.348\n",
            "Epoch: 180 | Train loss: 0.444 | Test loss: 0.336\n",
            "Epoch: 200 | Train loss: 0.443 | Test loss: 0.336\n",
            "Epoch: 220 | Train loss: 0.441 | Test loss: 0.333\n",
            "Epoch: 240 | Train loss: 0.431 | Test loss: 0.358\n",
            "Epoch: 260 | Train loss: 0.439 | Test loss: 0.331\n",
            "Epoch: 280 | Train loss: 0.428 | Test loss: 0.351\n",
            "Epoch: 300 | Train loss: 0.436 | Test loss: 0.344\n",
            "Epoch: 320 | Train loss: 0.436 | Test loss: 0.346\n",
            "Epoch: 340 | Train loss: 0.437 | Test loss: 0.330\n",
            "Epoch: 360 | Train loss: 0.437 | Test loss: 0.330\n",
            "Epoch: 380 | Train loss: 0.438 | Test loss: 0.330\n",
            "Epoch: 400 | Train loss: 0.434 | Test loss: 0.341\n",
            "Epoch: 420 | Train loss: 0.434 | Test loss: 0.342\n",
            "Epoch: 440 | Train loss: 0.435 | Test loss: 0.344\n",
            "Epoch: 460 | Train loss: 0.435 | Test loss: 0.345\n",
            "Epoch: 480 | Train loss: 0.435 | Test loss: 0.329\n",
            "Epoch: 500 | Train loss: 0.436 | Test loss: 0.330\n",
            "Epoch: 520 | Train loss: 0.428 | Test loss: 0.356\n",
            "Epoch: 540 | Train loss: 0.423 | Test loss: 0.345\n",
            "Epoch: 560 | Train loss: 0.429 | Test loss: 0.358\n",
            "Epoch: 580 | Train loss: 0.422 | Test loss: 0.342\n",
            "Epoch: 600 | Train loss: 0.427 | Test loss: 0.355\n",
            "Epoch: 620 | Train loss: 0.435 | Test loss: 0.329\n",
            "Epoch: 640 | Train loss: 0.421 | Test loss: 0.342\n",
            "Epoch: 660 | Train loss: 0.427 | Test loss: 0.356\n",
            "Epoch: 680 | Train loss: 0.425 | Test loss: 0.351\n",
            "Epoch: 700 | Train loss: 0.421 | Test loss: 0.343\n",
            "Epoch: 720 | Train loss: 0.426 | Test loss: 0.356\n",
            "Epoch: 740 | Train loss: 0.424 | Test loss: 0.351\n",
            "Epoch: 760 | Train loss: 0.432 | Test loss: 0.328\n",
            "Epoch: 780 | Train loss: 0.419 | Test loss: 0.339\n",
            "Epoch: 800 | Train loss: 0.424 | Test loss: 0.352\n",
            "Epoch: 820 | Train loss: 0.432 | Test loss: 0.328\n",
            "Epoch: 840 | Train loss: 0.430 | Test loss: 0.340\n",
            "Epoch: 860 | Train loss: 0.417 | Test loss: 0.335\n",
            "Epoch: 880 | Train loss: 0.422 | Test loss: 0.349\n",
            "Epoch: 900 | Train loss: 0.454 | Test loss: 0.324\n",
            "Epoch: 920 | Train loss: 0.434 | Test loss: 0.320\n",
            "Epoch: 940 | Train loss: 0.433 | Test loss: 0.320\n",
            "Epoch: 960 | Train loss: 0.434 | Test loss: 0.320\n",
            "Epoch: 980 | Train loss: 0.434 | Test loss: 0.320\n"
          ]
        }
      ]
    },
    {
      "cell_type": "markdown",
      "source": [
        "## 4. Make predictions with the trained model on the test data.\n",
        "  * Visualize these predictions against the original training and testing data (**note:** you may need to make sure the predictions are *not* on the GPU if you want to use non-CUDA-enabled libraries such as matplotlib to plot)."
      ],
      "metadata": {
        "id": "x4j4TM18jwa7"
      }
    },
    {
      "cell_type": "code",
      "source": [
        "# Make predictions with the model\n",
        "\n",
        "model1.eval()\n",
        "\n",
        "with torch.inference_mode():\n",
        "  y_preds = model1(X_test)\n",
        "y_preds, y_test"
      ],
      "metadata": {
        "id": "bbMPK5Qjjyx_",
        "outputId": "9772d1e3-91b6-402c-8e3f-37e5a33a3990",
        "colab": {
          "base_uri": "https://localhost:8080/"
        }
      },
      "execution_count": 47,
      "outputs": [
        {
          "output_type": "execute_result",
          "data": {
            "text/plain": [
              "(tensor([25.5141, 25.8262, 26.1384, 26.4505, 26.7626, 27.0748, 27.3869, 27.6991,\n",
              "         28.0112, 28.3233, 28.6355, 28.9476, 29.2598, 29.5719, 29.8840, 30.1962,\n",
              "         30.5083, 30.8205, 31.1326, 31.4447], device='cuda:0'),\n",
              " tensor([25.2481, 25.0509, 25.6843, 25.8212, 25.5035, 26.1038, 27.0451, 27.3437,\n",
              "         27.1550, 26.8754, 28.3581, 27.3356, 28.4487, 29.1289, 28.5971, 29.4537,\n",
              "         29.2021, 30.2374, 30.1096, 30.4980], device='cuda:0'))"
            ]
          },
          "metadata": {},
          "execution_count": 47
        }
      ]
    },
    {
      "cell_type": "code",
      "source": [
        "# Plot the predictions (these may need to be on a specific device)\n",
        "y_pred = y_preds.to('cpu')\n",
        "y_test = y_test.to('cpu')\n",
        "X_test = X_test.to('cpu')\n",
        "plt.plot(X_test, y_pred)\n",
        "plt.plot(X_test, y_test)"
      ],
      "metadata": {
        "id": "K3BdmQaDpFo8",
        "outputId": "6857a1cb-8881-4d54-ffbc-8d4885b3fc5d",
        "colab": {
          "base_uri": "https://localhost:8080/",
          "height": 447
        }
      },
      "execution_count": 48,
      "outputs": [
        {
          "output_type": "execute_result",
          "data": {
            "text/plain": [
              "[<matplotlib.lines.Line2D at 0x7a1f1765a830>]"
            ]
          },
          "metadata": {},
          "execution_count": 48
        },
        {
          "output_type": "display_data",
          "data": {
            "text/plain": [
              "<Figure size 640x480 with 1 Axes>"
            ],
            "image/png": "[encoded data removed]"
          },
          "metadata": {}
        }
      ]
    },
    {
      "cell_type": "markdown",
      "source": [
        "## 5. Save your trained model's `state_dict()` to file.\n",
        "  * Create a new instance of your model class you made in 2. and load in the `state_dict()` you just saved to it.\n",
        "  * Perform predictions on your test data with the loaded model and confirm they match the original model predictions from 4."
      ],
      "metadata": {
        "id": "s2OnlMWKjzX8"
      }
    },
    {
      "cell_type": "code",
      "source": [
        "from pathlib import Path\n",
        "# 1. Create models directory\n",
        "MODEL_PATH = Path(\"models\")\n",
        "MODEL_PATH.mkdir(parents = True,exist_ok = True)\n",
        "# 2. Create model save path\n",
        "MODEL_NAME = \"01_pytorch_model\"\n",
        "MODEL_SAVE_PATH = MODEL_PATH / MODEL_NAME\n",
        "# 3. Save the model state dict\n",
        "print(f\"Saving model to {MODEL_SAVE_PATH}\")\n",
        "torch.save(obj = model1.state_dict(),f = MODEL_SAVE_PATH)\n"
      ],
      "metadata": {
        "id": "hgxhgD14qr-i",
        "outputId": "dfd13b48-ec62-419d-ae7f-be0e68db2a87",
        "colab": {
          "base_uri": "https://localhost:8080/"
        }
      },
      "execution_count": 49,
      "outputs": [
        {
          "output_type": "stream",
          "name": "stdout",
          "text": [
            "Saving model to models/01_pytorch_model\n"
          ]
        }
      ]
    },
    {
      "cell_type": "code",
      "source": [
        "# Create new instance of model and load saved state dict (make sure to put it on the target device)\n",
        "loaded_model = LinReg()\n",
        "loaded_model.load_state_dict(torch.load(f = MODEL_SAVE_PATH))\n",
        "loaded_model.to(device)\n"
      ],
      "metadata": {
        "id": "P9vTgiLRrJ7T",
        "outputId": "63b4213b-528f-4af4-8ebf-1e40463c831d",
        "colab": {
          "base_uri": "https://localhost:8080/"
        }
      },
      "execution_count": 50,
      "outputs": [
        {
          "output_type": "execute_result",
          "data": {
            "text/plain": [
              "LinReg()"
            ]
          },
          "metadata": {},
          "execution_count": 50
        }
      ]
    },
    {
      "cell_type": "code",
      "source": [
        "# Make predictions with loaded model and compare them to the previous\n",
        "\n",
        "model1.eval()\n",
        "with torch.inference_mode():\n",
        "  y_load_preds = model1(X_test.to(device))\n",
        "y_load_preds, y_preds\n",
        "\n"
      ],
      "metadata": {
        "id": "8UGX3VebrVtI",
        "outputId": "45ba8dcd-7266-47d2-b4f4-24c91da7d17d",
        "colab": {
          "base_uri": "https://localhost:8080/"
        }
      },
      "execution_count": 53,
      "outputs": [
        {
          "output_type": "execute_result",
          "data": {
            "text/plain": [
              "(tensor([25.5141, 25.8262, 26.1384, 26.4505, 26.7626, 27.0748, 27.3869, 27.6991,\n",
              "         28.0112, 28.3233, 28.6355, 28.9476, 29.2598, 29.5719, 29.8840, 30.1962,\n",
              "         30.5083, 30.8205, 31.1326, 31.4447], device='cuda:0'),\n",
              " tensor([25.5141, 25.8262, 26.1384, 26.4505, 26.7626, 27.0748, 27.3869, 27.6991,\n",
              "         28.0112, 28.3233, 28.6355, 28.9476, 29.2598, 29.5719, 29.8840, 30.1962,\n",
              "         30.5083, 30.8205, 31.1326, 31.4447], device='cuda:0'))"
            ]
          },
          "metadata": {},
          "execution_count": 53
        }
      ]
    }
  ]
}